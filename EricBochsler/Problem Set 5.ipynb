{
 "cells": [
  {
   "cell_type": "markdown",
   "metadata": {},
   "source": [
    "#### Eric Bochsler $$$$ Astronomy 425 $$$$ Problem Set 5"
   ]
  },
  {
   "cell_type": "code",
   "execution_count": 1,
   "metadata": {
    "collapsed": false
   },
   "outputs": [
    {
     "name": "stdout",
     "output_type": "stream",
     "text": [
      "Populating the interactive namespace from numpy and matplotlib\n"
     ]
    }
   ],
   "source": [
    "%pylab inline\n",
    "from scipy.integrate import quad"
   ]
  },
  {
   "cell_type": "markdown",
   "metadata": {},
   "source": [
    "$1.$ $$$$\n",
    "Values of $\\Omega_{m}$ $\\Omega_{r}$ and $\\Omega_{\\Lambda}$ that give rise to a Loitering universe and a Big Crunch universe. The Loitering universe will have a long period where the scale factor is approximately constant before growing again. The Big Crunch universe will have a scale factor that increases to a maximum and then decreases to zero. To complete this problem I used loops to try to find values of energy densities that would give rise to the a Loitering Universe and a Big Crunch Universe. To plot, values of t were determined for a series of given scale factors."
   ]
  },
  {
   "cell_type": "code",
   "execution_count": 121,
   "metadata": {
    "collapsed": false
   },
   "outputs": [],
   "source": [
    "#As with previous homework, I am working on learning and switching to object-oriented programming.\n",
    "#Will continue to work on this.\n",
    "class Universe():\n",
    "    '''A universe that is defined by energy densities of matter, radiation, and a cosmological constant.\n",
    "    A universe also has a curvature that is defined as being positive or negative. A universe will have a scale factor\n",
    "    that can be solved for redshift, or for time.\n",
    "    \n",
    "    Inputs:\n",
    "        OmR: Float that represents energy density of radiation compared to critical density.\n",
    "        OmM: Float that represents energy density of matter compared to critical density.\n",
    "        OmL: Float that represents energy density of a cosmological constant compared to critical density.\n",
    "        H: Float that represents Hubble's constant in km s^-1 Mpc^-1\n",
    "    '''\n",
    "    \n",
    "    def _init_(self, OmR, OmM, OmL, H):\n",
    "        self.OmR = OmR\n",
    "        self.OmM = OmM\n",
    "        self.OmL = OmL\n",
    "        self.Om0 = OmR + OmM + OmL\n",
    "        self.OmC = 1.0 - OmR - OmM - OmL\n",
    "        self.H = H\n",
    "        pass\n",
    "    \n",
    "    def Hz(self, H0, Omr, Omm, Oml, Om0, z):\n",
    "        H = H0 * (3.15e16/3e19) #Hubble Constant for Age in Gyr (s to Gyr, Mpc to km)\n",
    "        Hz = H*( Omr*(1+z)**(4.0) + Omm*(1+z)**(3.0) + Oml + (1-Om0)*(1+z)**(2.0) )**(1.0/2.0)\n",
    "        return Hz\n",
    "    \n",
    "    def Ht(self, H0, Omr, Omm, Oml, Om0, scale):\n",
    "        H = H0 * (3.15e16/3e19) #Hubble Constant for Age in Gyr (s to Gyr, Mpc to km)\n",
    "        H = H*(Oml + (1.0 - Om0)*(scale**(-2.0)) + Omm*(scale**(-3.0)) +Omr*(scale**(-4.0))**(1.0/2.0))\n",
    "        return H"
   ]
  },
  {
   "cell_type": "code",
   "execution_count": 133,
   "metadata": {
    "collapsed": false
   },
   "outputs": [],
   "source": [
    "def Ht(omr, omm, oml, H0, a):\n",
    "    '''Finds H(t) for a given cosmology and scale factor that is time dependent.\n",
    "   \n",
    "    Inputs:\n",
    "        omr: Float that represents energy density of radiation compared to critical density.\n",
    "        omm: Float that represents energy density of matter compared to critical density.\n",
    "        oml: Float that represents energy density of a cosmological constant compared to critical density.\n",
    "        H0: Float that represents Hubble's constant in km s^-1 Mpc^-1.\n",
    "    '''\n",
    "    H = H0 * (3.15e16/3e19) #Hubble Constant for Age in Gyr (s to Gyr, Mpc to km)\n",
    "    om0 = omr + omm + oml\n",
    "    Ht = H * ((omr*(a**(-4.0)) + omm*(a**(-3.0)) + oml + (1 - om0)*(a**(-2.0)))**(1.0 / 2.0))\n",
    "    return Ht\n",
    "    \n",
    "def findAgeFromScaleFactor(omm, omr, oml, a1, a2, H0):\n",
    "        '''Finds the age of the universe for a number of different scale factors. Universe cosmology \n",
    "        is specified by the given values of omega and the Hubble's Constant.\n",
    "        \n",
    "        Inputs:\n",
    "            omr: Float that represents energy density of radiation compared to critical density.\n",
    "            omm: Float that represents energy density of matter compared to critical density.\n",
    "            oml: Float that represents energy density of a cosmological constant compared to critical density.\n",
    "            H0: Float that represents Hubble's constant in km s^-1 Mpc^-1.\n",
    "            a1: Float representing smallest scale factor value for time to be evaluated.\n",
    "            a2: Float representing largest scale factor value for time to be evaluated.\n",
    "        '''\n",
    "        \n",
    "        H = H0 * (3.15e16/3e19) #Hubble Constant for Age in Gyr (s to Gyr, Mpc to km)\n",
    "        scaleRange = linspace(a1, a2, 1000)\n",
    "        x = lambda a: (a*Ht(omr, omm, oml, H0, a))**(-1.0)\n",
    "        universeAge = asarray([quad(x, a1, i)[0] for i in scaleRange]) \n",
    "        return universeAge"
   ]
  },
  {
   "cell_type": "markdown",
   "metadata": {},
   "source": [
    "# Loitering Universe"
   ]
  },
  {
   "cell_type": "code",
   "execution_count": 136,
   "metadata": {
    "collapsed": false
   },
   "outputs": [],
   "source": [
    "#Loitering Universe\n",
    "OmR = 0\n",
    "OmM = 0.3\n",
    "OmL = 1.7134\n",
    "H0  = 70 #km s^-1 Mpc^-1\n",
    "a1 = 0.00001 #Very close to a = 0\n",
    "a2 = 2.0\n",
    "scaleValues = linspace(a1, a2, 1000)\n",
    "age = findAgeFromScaleFactor(OmM, OmR, OmL, a1, a2, H0)"
   ]
  },
  {
   "cell_type": "code",
   "execution_count": 137,
   "metadata": {
    "collapsed": false
   },
   "outputs": [
    {
     "data": {
      "image/png": "[encoded data removed]",
      "text/plain": [
       "<matplotlib.figure.Figure at 0x106aed5f8>"
      ]
     },
     "metadata": {},
     "output_type": "display_data"
    }
   ],
   "source": [
    "#Loitering Universe Plot\n",
    "figure()\n",
    "plot(age, scaleValues, label='$\\Omega_{\\Lambda}= 1.7134$ $\\Omega_{m}= 0.3 $ $\\Omega_{r}= 0$')\n",
    "title('Loitering Universe')\n",
    "xlabel('Time (Gyr)')\n",
    "ylabel('Scale Factor (a(t))')\n",
    "legend()\n",
    "show()\n"
   ]
  },
  {
   "cell_type": "markdown",
   "metadata": {},
   "source": [
    "# Big Crunch Universe"
   ]
  },
  {
   "cell_type": "markdown",
   "metadata": {},
   "source": [
    "For the Big Crunch Universe, I found the omega matter value that gives rise to a universe where the scale factor decreases once it reaches a(t) = 3.0. This produced half of the plot, so the other half was made by mirroring the first."
   ]
  },
  {
   "cell_type": "code",
   "execution_count": 272,
   "metadata": {
    "collapsed": false
   },
   "outputs": [
    {
     "name": "stdout",
     "output_type": "stream",
     "text": [
      "90.6710805528\n"
     ]
    }
   ],
   "source": [
    "#Big Crunch\n",
    "OmR = 0\n",
    "OmM = 1.50 #Universe collapse begins when scale factor is a(t) = 3.0\n",
    "OmL = 0\n",
    "H0  = 70 #km s^-1 Mpc^-1\n",
    "a1 = 0.00001 #Very close to a = 0\n",
    "a2 = 3.0 \n",
    "scaleValues1 = linspace(a1, a2, 1000)\n",
    "age1 = findAgeFromScaleFactor(OmM, OmR, OmL, a1, a2, H0)\n",
    "print(age1[999])\n",
    "ageAddition = age1[999] * 2.0"
   ]
  },
  {
   "cell_type": "code",
   "execution_count": 273,
   "metadata": {
    "collapsed": false
   },
   "outputs": [
    {
     "data": {
      "image/png": "[encoded data removed]",
      "text/plain": [
       "<matplotlib.figure.Figure at 0x107e62cf8>"
      ]
     },
     "metadata": {},
     "output_type": "display_data"
    }
   ],
   "source": [
    "figure()\n",
    "plot(age1, scaleValues1, color = 'b', label='$\\Omega_{\\Lambda}=0$ $\\Omega_{m}=1.5$ $\\Omega_{r}=0$')\n",
    "plot(-age1 + ageAddition, scaleValues1, color = 'b')\n",
    "title('Big Crunch Universe')\n",
    "xlabel('Time (Gyr)')\n",
    "ylabel('Scale Factor (a(t))')\n",
    "ylim(0, 3.5)\n",
    "legend()\n",
    "show()\n"
   ]
  },
  {
   "cell_type": "markdown",
   "metadata": {},
   "source": [
    "$2.$ $$$$\n",
    "The expression for the Einstein radius from class: $$$$\n",
    "$\\theta_{E}=({4GM\\over c^{2}}{D_{LS}\\over D_{L}D_{S}})^{1/2}$ $$$$\n",
    "$\\theta_{E}^{2}=({4GM\\over c^{2}}{D_{LS}\\over D_{L}D_{S}})$ $$$$\n",
    "$M_{E}= {\\theta_{E}^{2}c^{2}D_{L}D_{S} \\over 4GD_{LS}}$ $$$$\n",
    "To find the mass of the isothermal sphere within the Einstein radius, the density of the sphere must be integrated over the volume. $$$$\n",
    "$\\rho(r)= {\\sigma_{v}^{2} \\over 2 \\pi Gr^{2}}$ $$$$\n",
    "$M_{E}=\\int\\rho(r)dV=\\int_{0}^{2\\pi}\\int_{0}^{\\pi}\\int_{0}^{R}{\\sigma_{v}^{2} \\over 2 \\pi Gr^{2}}r^{2}cos\\theta drd\\theta d\\phi=4\\pi\\int_{0}^{R}{\\sigma_{v}^{2} \\over 2 \\pi G}dr$ $$$$\n",
    "$M_{E}(R)=2{\\sigma_{v}^{2}R \\over G}$ $$$$\n",
    "The mass of the isothermal sphere within the Einstein radius R can be equated to the expression for mass found from the equation for the Einstein radius $\\theta_{E}.$ $$$$\n",
    "$M_{E}= {\\theta_{E}^{2}c^{2}D_{L}D_{S} \\over 4GD_{LS}}=2{\\sigma_{v}^{2}R \\over G}$ $$$$\n",
    "The expression is solved for $\\sigma_{v}^{2}$. $$$$\n",
    "$\\sigma_{v}^{2}={\\theta_{E}^{2}c^{2}D_{L}D_{S} \\over 8RD_{LS}}$ $$$$\n",
    "$\\sigma_{v}^{2}={\\theta_{E}^{2}c^{2}D_{S} \\over 8D_{LS}}{D_{L}\\over R}$ $$$$\n",
    "$\\sigma_{v}=({\\theta_{E}^{2}c^{2}D_{S} \\over 8D_{LS}}{D_{L}\\over R})^{1/2}$ $$$$\n",
    "${R\\over D_{L}}=tan\\theta_{E}$ which can be approximated as $\\theta_{E}$ by small angle approximation. $$$$\n",
    "$\\sigma_{v}=({\\theta_{E}c^{2}D_{S} \\over 8D_{LS}})^{1/2}$ $$$$\n",
    "$\\sigma_{v}={c\\over \\sqrt{8}}({\\theta_{E}D_{S} \\over D_{LS}})^{1/2}$ $$$$\n",
    "$\\sigma_{v} \\approx 10^{3}kms^{-1}({\\theta \\over 28\"}{D_{S} \\over D_{LS}})^{1/2}$ $$$$"
   ]
  },
  {
   "cell_type": "code",
   "execution_count": null,
   "metadata": {
    "collapsed": false
   },
   "outputs": [],
   "source": []
  }
 ],
 "metadata": {
  "kernelspec": {
   "display_name": "Python 3",
   "language": "python",
   "name": "python3"
  },
  "language_info": {
   "codemirror_mode": {
    "name": "ipython",
    "version": 3
   },
   "file_extension": ".py",
   "mimetype": "text/x-python",
   "name": "python",
   "nbconvert_exporter": "python",
   "pygments_lexer": "ipython3",
   "version": "3.5.0"
  }
 },
 "nbformat": 4,
 "nbformat_minor": 0
}
