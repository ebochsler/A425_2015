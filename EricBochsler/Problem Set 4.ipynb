{
 "metadata": {
  "name": "Problem Set 4"
 },
 "nbformat": 3,
 "nbformat_minor": 0,
 "worksheets": [
  {
   "cells": [
    {
     "cell_type": "heading",
     "level": 4,
     "metadata": {},
     "source": [
      "Eric Bochsler $$$$ \n",
      "Astronomy 425 $$$$\n",
      "Problem Set 4 $$$$\n",
      "Problems 1 and 2 $$$$"
     ]
    },
    {
     "cell_type": "code",
     "collapsed": false,
     "input": [
      "import numpy as np\n",
      "import matplotlib.pylab as plt"
     ],
     "language": "python",
     "metadata": {},
     "outputs": [],
     "prompt_number": 9
    },
    {
     "cell_type": "markdown",
     "metadata": {},
     "source": [
      "Problem $1.$ $$$$ A. $$$$An observer sees two galaxies that line-up with eachother, with the closer at redshift z$_{1}$ and the more distant at z$_{2}$. To find the observed redshift z$_{3}$, the expression relating redshift to scale factor can be used. $$$$ $(z+1) = {a(t_{o})\\over{a(t_{e})}}$ $$$$ For close galaxy: $a(t_{o}) = a(t_{e1}) (1+z_{1})$ $$$$ \n",
      "For far galaxy: $a(t_{0})=a(t_{e2}) (1+z_{2})$ $$$$\n",
      "The scale factor at time of observation is the same, so $a(t_{e1}) (1+z_{1})=a(t_{e2}) (1+z_{2})$ $$$$\n",
      "${a(t_{e1}) \\over a(t_{e2})} = {(1+z_{2}) \\over (1+z_{1})}$ $$$$\n",
      "Take $a(t_{e1})$ to be $a(t_{o})$ for finding redshift of galaxy 2 measured by galaxy 1 $$$$\n",
      "$(z_{3}+1) = {a(t_{e1})\\over{a(t_{e2})}}={(1+z_{2}) \\over (1+z_{1})}$ $$$$\n",
      "$z_{3}={(1+z_{2}) \\over (1+z_{1})}-1$ $$$$\n",
      "B. $$$$ $d_{A}={S_{k}(r)\\over{ (1+z)}}$ $$$$\n",
      "$S_{k}(r)$ is equal to comoving distance for a flat universe $$$$\n",
      "$d_{A}={2c \\over H_{0}(1+z)}(1-(1+z)^{{-(1 + 3\\omega) \\over 2}}) $ $$$$ $\\omega = 0$ for Einstein-deSitter Universe with $\\Omega_{m}=1$ $$$$ $d_{A}={2c \\over H_{0}(1+z)}(1-(1+z)^{{-1\\over 2}})$"
     ]
    },
    {
     "cell_type": "code",
     "collapsed": false,
     "input": [
      "def findZ(z1, z2):\n",
      "    a1 = 1.0/(1+z1)\n",
      "    a2 = 1.0/(1+z2)\n",
      "    Z = a1/a2 -1.0\n",
      "    return Z\n",
      "\n",
      "def angularDiameter(z):\n",
      "    c = 3.0e5 #km s^-1\n",
      "    H = 70 #km s^-1 Mpc^-1\n",
      "    D = (2.0*c/H*(1+z))*(1-((1+z)**(-1.0/2.0)))\n",
      "    return D\n",
      "\n",
      "d1 = angularDiameter(0.5)\n",
      "d2 = angularDiameter(1.6)\n",
      "z3 = findZ(0.5, 1.6)\n",
      "d3 = angularDiameter(z3)\n",
      "print 'Angular diameter distance to galaxy 1:', d1, 'Mpc'\n",
      "print 'Angular diameter distance to galaxy 2:', d2, 'Mpc'\n",
      "print 'Angular diameter distance from galaxy 1 to galaxy 2:', d3, 'Mpc'"
     ],
     "language": "python",
     "metadata": {},
     "outputs": [
      {
       "output_type": "stream",
       "stream": "stdout",
       "text": [
        "Angular diameter distance to galaxy 1: 2359.32967379 Mpc\n",
        "Angular diameter distance to galaxy 2: 8464.70100292 Mpc\n",
        "Angular diameter distance from galaxy 1 to galaxy 2: 3572.33276678 Mpc\n"
       ]
      }
     ],
     "prompt_number": 33
    },
    {
     "cell_type": "markdown",
     "metadata": {},
     "source": [
      "C. $$$$ The angular diameters for the galaxies found above seem consistent. The angular diameter grows with redshift as the galaxies get farther away. When the sum of the angular diameter distance to galaxy 1 and that from galaxy 1 to galaxy 2 are compared to the angular diameter distance to galaxy 2, the two diameter distances are not equal. This is because angular diameter distance does not increase linearly, so the two cannot simply be summed to determine angular diameter distance to galaxy 2."
     ]
    },
    {
     "cell_type": "markdown",
     "metadata": {},
     "source": [
      "Problem $2.$ $$$$ After finding the number density of galaxies within the half-mass radius, I found the average distance a galaxy will travel before combining with another galaxy by finding the mean free path. The mean free path is given by $d = {1 \\over\\Sigma \\rho}$ where $\\Sigma$ represents the cross section of a typical galaxy and $\\rho$ is the number density of galaxies. To find the average time before a galaxy collide I divided the mean free path by the velocity dispersion of the Coma Cluster. I found the average time it takes for galaxies to collide in the Coma Cluster to be 15.7 Gyr, which is larger than the Hubble time of 13.8 Gyr."
     ]
    },
    {
     "cell_type": "code",
     "collapsed": false,
     "input": [
      "N = 1000\n",
      "r_h = 1.5 #Mpc\n",
      "V_h = (4.0/3.0)*np.pi*(r_h**3)\n",
      "Sigma = 10**(-3) #Mpc^2\n",
      "disp = 880 #km s^-1\n",
      "sigmaDisp = disp * ((3.156e16) / (3.086e19)) #Mpc Gyr^-1\n",
      "rho = N / V_h\n",
      "print 'Number Density:', rho, 'Galaxies per cubic Megaparsec'\n",
      "d = 1 / (rho*Sigma)\n",
      "print 'Average distance before combination:', d, 'Mpc' \n",
      "print 'Average time before combination:',d / sigmaDisp, 'Gyr'"
     ],
     "language": "python",
     "metadata": {},
     "outputs": [
      {
       "output_type": "stream",
       "stream": "stdout",
       "text": [
        "Number Density: 70.7355302631 Galaxies per cubic Megaparsec\n",
        "Average distance before combination: 14.1371669412 Mpc\n",
        "Average time before combination: 15.7086419736 Gyr\n"
       ]
      }
     ],
     "prompt_number": 15
    },
    {
     "cell_type": "markdown",
     "metadata": {},
     "source": [
      "Below I find the time for our own galaxy to combine with M31. I do this by simply finding how long from now the two galaxies will combine and adding to that the current age of the universe. The time for combination to occur between our own galaxy and M31 was found to be 19.5 Gyr after the Big Bang. This is greater than the average time of combination in the Coma Cluster which makes sense because the Coma Cluster is more massive and more dense than our Local Group."
     ]
    },
    {
     "cell_type": "code",
     "collapsed": false,
     "input": [
      "v = 120 #km s^-1\n",
      "d = 700 #kpc\n",
      "t0 = 13.8 #Gyr\n",
      "v1 = v * ((3.156e16) / (3.086e16)) #kpc Gyr^-1\n",
      "t1 = d / v1\n",
      "T = t0 + t1\n",
      "print 'Galaxies will combine',T, 'Gyr after the Big Bang'"
     ],
     "language": "python",
     "metadata": {},
     "outputs": [
      {
       "output_type": "stream",
       "stream": "stdout",
       "text": [
        "Galaxies will combine 19.5039501479 Gyr after the Big Bang\n"
       ]
      }
     ],
     "prompt_number": 10
    }
   ],
   "metadata": {}
  }
 ]
}