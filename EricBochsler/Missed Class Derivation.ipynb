{
 "cells": [
  {
   "cell_type": "markdown",
   "metadata": {},
   "source": [
    " Eric Bochsler $$$$\n",
    " Class Derivation $$$$"
   ]
  },
  {
   "cell_type": "markdown",
   "metadata": {},
   "source": [
    "$1.$ ${\\partial V \\over \\partial t} + V\\nabla V = -{1 \\over \\rho} \\nabla P - \\nabla \\phi$ $$$$\n",
    "$2.$ ${d \\over dt}V_{0} = -{1 \\over \\rho} \\nabla \\rho_{0} - \\nabla \\phi_{0}$ $$$$\n",
    "Plug $P=P_{0}+ \\delta P$, $\\rho= \\rho_{0} + \\delta \\rho$, $\\phi= \\phi_{0} + \\delta \\phi$, and $V = V_{0} + \\delta v$ into equation 1, and then subtract equation 2. $$$$\n",
    "${\\partial (V_{0} + \\delta V) \\over \\partial t} + (V_{0}+\\delta V)\\nabla (V_{0}+\\delta V) = -{1 \\over \\rho} \\nabla (P_{0}+\\delta P) - \\nabla (\\phi_{0} + \\delta \\phi)$ $$$$\n",
    "${\\partial (V_{0} + \\delta V) \\over \\partial t} + (V_{0}+\\delta V)\\nabla (V_{0}+\\delta V) - {d \\over dt}V_{0} = -{1 \\over \\rho} \\nabla (P_{0}+\\delta P) - \\nabla (\\phi_{0} + \\delta \\phi) -(-{1 \\over \\rho} \\nabla \\rho_{0} - \\nabla \\phi_{0})$ $$$$\n",
    "${\\partial ( \\delta V) \\over \\partial t} + (V_{0}+\\delta V)\\nabla (V_{0}+\\delta V) = -{1 \\over \\rho} \\nabla (P_{0}+\\delta P- \\rho_{0}) - \\nabla ( \\delta \\phi))$ $$$$\n",
    "$V_{0} \\nabla V_{0} + \\delta \\nabla V_{0} = {1 \\over \\rho}(\\nabla \\rho_{0} - \\nabla P_{0})$ $$$$\n",
    "Now this can be expanded, and second order terms ignored. $$$$\n",
    "$V\\nabla V_{0} = {1 \\over \\rho}(\\nabla \\rho_{0} - \\nabla P_{0})$"
   ]
  },
  {
   "cell_type": "code",
   "execution_count": null,
   "metadata": {
    "collapsed": true
   },
   "outputs": [],
   "source": []
  }
 ],
 "metadata": {
  "kernelspec": {
   "display_name": "Python 3",
   "language": "python",
   "name": "python3"
  },
  "language_info": {
   "codemirror_mode": {
    "name": "ipython",
    "version": 3
   },
   "file_extension": ".py",
   "mimetype": "text/x-python",
   "name": "python",
   "nbconvert_exporter": "python",
   "pygments_lexer": "ipython3",
   "version": "3.5.0"
  }
 },
 "nbformat": 4,
 "nbformat_minor": 0
}
